{
 "cells": [
  {
   "cell_type": "markdown",
   "id": "5232bc8f",
   "metadata": {},
   "source": [
    "Create a Numpy array filled with all zeros"
   ]
  },
  {
   "cell_type": "code",
   "execution_count": 2,
   "id": "6a3789dc",
   "metadata": {},
   "outputs": [
    {
     "name": "stdout",
     "output_type": "stream",
     "text": [
      "Matrix a : \n",
      " [0 0 0]\n",
      "\n",
      "Matrix b : \n",
      " [[0 0 0]\n",
      " [0 0 0]\n",
      " [0 0 0]]\n"
     ]
    }
   ],
   "source": [
    "import numpy as np\n",
    "  \n",
    "a = np.zeros(3, dtype = int) \n",
    "print(\"Matrix a : \\n\", a) \n",
    "  \n",
    "b = np.zeros([3, 3], dtype = int) \n",
    "print(\"\\nMatrix b : \\n\", b) "
   ]
  },
  {
   "cell_type": "code",
   "execution_count": 13,
   "id": "93465c4a",
   "metadata": {},
   "outputs": [
    {
     "data": {
      "text/plain": [
       "array([[0., 0., 0.],\n",
       "       [0., 0., 0.],\n",
       "       [0., 0., 0.]])"
      ]
     },
     "execution_count": 13,
     "metadata": {},
     "output_type": "execute_result"
    }
   ],
   "source": [
    "np.zeros([3,3])"
   ]
  },
  {
   "cell_type": "markdown",
   "id": "83c6643a",
   "metadata": {},
   "source": [
    "Create a Numpy array filled with all ones"
   ]
  },
  {
   "cell_type": "code",
   "execution_count": 4,
   "id": "7c230d83",
   "metadata": {},
   "outputs": [
    {
     "name": "stdout",
     "output_type": "stream",
     "text": [
      "Matrix a : \n",
      " [1 1 1]\n",
      "\n",
      "Matrix b : \n",
      " [[1 1 1]\n",
      " [1 1 1]\n",
      " [1 1 1]]\n"
     ]
    }
   ],
   "source": [
    " \n",
    "a = np.ones(3, dtype = int)\n",
    "print(\"Matrix a : \\n\", a)\n",
    " \n",
    "b =np.ones([3, 3], dtype = int)\n",
    "print(\"\\nMatrix b : \\n\", b)"
   ]
  },
  {
   "cell_type": "code",
   "execution_count": 14,
   "id": "34c94efe",
   "metadata": {},
   "outputs": [
    {
     "data": {
      "text/plain": [
       "array([1., 1., 1., 1., 1., 1.])"
      ]
     },
     "execution_count": 14,
     "metadata": {},
     "output_type": "execute_result"
    }
   ],
   "source": [
    "np.ones(6)"
   ]
  },
  {
   "cell_type": "code",
   "execution_count": 15,
   "id": "857c120b",
   "metadata": {},
   "outputs": [
    {
     "data": {
      "text/plain": [
       "array([[1., 1., 1., 1.],\n",
       "       [1., 1., 1., 1.],\n",
       "       [1., 1., 1., 1.]])"
      ]
     },
     "execution_count": 15,
     "metadata": {},
     "output_type": "execute_result"
    }
   ],
   "source": [
    "np.ones([3,4])"
   ]
  },
  {
   "cell_type": "markdown",
   "id": "a4d96feb",
   "metadata": {},
   "source": [
    "How to Remove rows in Numpy array that contains non-numeric values?"
   ]
  },
  {
   "cell_type": "code",
   "execution_count": 16,
   "id": "bf29deb4",
   "metadata": {},
   "outputs": [
    {
     "name": "stdout",
     "output_type": "stream",
     "text": [
      "[[10.5 22.5  3.8]\n",
      " [41.   nan  nan]]\n"
     ]
    }
   ],
   "source": [
    "n_arr = np.array([[10.5, 22.5, 3.8],\n",
    "                  [41, np.nan, np.nan]])\n",
    "print(n_arr)"
   ]
  },
  {
   "cell_type": "code",
   "execution_count": 5,
   "id": "a398a57a",
   "metadata": {},
   "outputs": [
    {
     "name": "stdout",
     "output_type": "stream",
     "text": [
      "Given array:\n",
      "[[10.5 22.5  3.8]\n",
      " [41.   nan  nan]]\n",
      "\n",
      "Remove all rows containing non-numeric elements\n",
      "[[10.5 22.5  3.8]]\n"
     ]
    }
   ],
   "source": [
    "# Creating 2X3 2-D Numpy array\n",
    "n_arr = np.array([[10.5, 22.5, 3.8],\n",
    "                  [41, np.nan, np.nan]])\n",
    "  \n",
    "print(\"Given array:\")\n",
    "print(n_arr)\n",
    "  \n",
    "print(\"\\nRemove all rows containing non-numeric elements\")\n",
    "print(n_arr[~np.isnan(n_arr).any(axis=1)])"
   ]
  },
  {
   "cell_type": "markdown",
   "id": "a860a2fc",
   "metadata": {},
   "source": [
    "Find the most frequent value in a NumPy array"
   ]
  },
  {
   "cell_type": "code",
   "execution_count": 6,
   "id": "b6bc381f",
   "metadata": {},
   "outputs": [
    {
     "name": "stdout",
     "output_type": "stream",
     "text": [
      "Original array:\n",
      "[1 2 3 4 5 1 2 1 1 1]\n",
      "Most frequent value in the above array:\n",
      "1\n"
     ]
    }
   ],
   "source": [
    "# create array\n",
    "x = np.array([1,2,3,4,5,1,2,1,1,1])\n",
    "print(\"Original array:\")\n",
    "print(x)\n",
    "  \n",
    "print(\"Most frequent value in the above array:\")\n",
    "print(np.bincount(x).argmax())"
   ]
  },
  {
   "cell_type": "markdown",
   "id": "8d425f52",
   "metadata": {},
   "source": [
    "How to add a border around a NumPy array?"
   ]
  },
  {
   "cell_type": "code",
   "execution_count": 19,
   "id": "8e2c5326",
   "metadata": {},
   "outputs": [
    {
     "name": "stdout",
     "output_type": "stream",
     "text": [
      "Original array\n",
      "[[1. 1.]\n",
      " [1. 1.]]\n",
      "\n",
      "0 on the border and 1 inside the array\n",
      "[[5. 5. 5. 5.]\n",
      " [5. 1. 1. 5.]\n",
      " [5. 1. 1. 5.]\n",
      " [5. 5. 5. 5.]]\n"
     ]
    }
   ],
   "source": [
    "# Creating a 2X2 Numpy matrix\n",
    "array = np.ones((2, 2))\n",
    "  \n",
    "print(\"Original array\")\n",
    "print(array)\n",
    "  \n",
    "print(\"\\n0 on the border and 1 inside the array\")\n",
    "  \n",
    "# constructing border of 0 around 2D identity matrix\n",
    "# using np.pad()\n",
    "array = np.pad(array, pad_width=1, mode='constant',\n",
    "               constant_values=5)\n",
    "  \n",
    "print(array)"
   ]
  },
  {
   "cell_type": "markdown",
   "id": "400a93b5",
   "metadata": {},
   "source": [
    "How to compare two NumPy arrays?"
   ]
  },
  {
   "cell_type": "code",
   "execution_count": 21,
   "id": "ce32ad1d",
   "metadata": {},
   "outputs": [
    {
     "name": "stdout",
     "output_type": "stream",
     "text": [
      "True\n"
     ]
    }
   ],
   "source": [
    "an_array = np.array([[1, 2], [3, 4]])\n",
    "another_array = np.array([[1, 2], [3, 4]])\n",
    " \n",
    "comparison = an_array == another_array\n",
    "equal_arrays = comparison.all()\n",
    " \n",
    "print(equal_arrays)"
   ]
  },
  {
   "cell_type": "markdown",
   "id": "448e9504",
   "metadata": {},
   "source": [
    "How to check whether specified values are present in NumPy array?"
   ]
  },
  {
   "cell_type": "code",
   "execution_count": 9,
   "id": "bc73f4d2",
   "metadata": {},
   "outputs": [
    {
     "name": "stdout",
     "output_type": "stream",
     "text": [
      "Given array:\n",
      "[[2 3 0]\n",
      " [4 1 6]]\n",
      "True\n",
      "True\n",
      "True\n",
      "False\n",
      "False\n"
     ]
    }
   ],
   "source": [
    "# creating a Numpy array\n",
    "n_array = np.array([[2, 3, 0],\n",
    "                    [4, 1, 6]])\n",
    "  \n",
    "print(\"Given array:\")\n",
    "print(n_array)\n",
    "  \n",
    "# Checking whether specific values\n",
    "# are present in \"n_array\" or not\n",
    "print(2 in n_array)\n",
    "print(0 in n_array)\n",
    "print(6 in n_array)\n",
    "print(50 in n_array)\n",
    "print(10 in n_array)"
   ]
  },
  {
   "cell_type": "markdown",
   "id": "aa83f1ba",
   "metadata": {},
   "source": [
    "Get the maximum value from given matrix"
   ]
  },
  {
   "cell_type": "code",
   "execution_count": 9,
   "id": "e82f26cb",
   "metadata": {},
   "outputs": [
    {
     "name": "stdout",
     "output_type": "stream",
     "text": [
      "64\n"
     ]
    }
   ],
   "source": [
    "# make matrix with numpy\n",
    "gfg = np.matrix('[64, 1; 12, 3]')\n",
    "          \n",
    "# applying matrix.min() method\n",
    "geeks = gfg.max()\n",
    "print(geeks)"
   ]
  },
  {
   "cell_type": "code",
   "execution_count": 25,
   "id": "a35e7545",
   "metadata": {},
   "outputs": [
    {
     "name": "stdout",
     "output_type": "stream",
     "text": [
      "[ 1  2 56 87 49]\n",
      "87\n"
     ]
    }
   ],
   "source": [
    "a= np.array([1,2,56,87,49])\n",
    "print(a)\n",
    "print(max(a))"
   ]
  },
  {
   "cell_type": "markdown",
   "id": "ec10b00a",
   "metadata": {},
   "source": [
    "Get the minimum value from given matrix"
   ]
  },
  {
   "cell_type": "code",
   "execution_count": 12,
   "id": "64df9bcd",
   "metadata": {},
   "outputs": [
    {
     "name": "stdout",
     "output_type": "stream",
     "text": [
      "1\n"
     ]
    }
   ],
   "source": [
    "# make matrix with numpy\n",
    "gfg = np.matrix('[64, 1; 12, 3]')\n",
    "          \n",
    "# applying matrix.min() method\n",
    "geeks = gfg.min()\n",
    "print(geeks)"
   ]
  },
  {
   "cell_type": "markdown",
   "id": "d90b6561",
   "metadata": {},
   "source": [
    "Select the elements from a given matrix"
   ]
  },
  {
   "cell_type": "code",
   "execution_count": 27,
   "id": "d3476000",
   "metadata": {},
   "outputs": [
    {
     "name": "stdout",
     "output_type": "stream",
     "text": [
      "[[4]]\n"
     ]
    }
   ],
   "source": [
    "# make matrix with numpy\n",
    "gfg = np.matrix('[4, 1, 12, 3, 4, 6, 7]')\n",
    "              \n",
    "# applying matrix.take() method\n",
    "geek = gfg.take(0)\n",
    "    \n",
    "print(geek)"
   ]
  },
  {
   "cell_type": "markdown",
   "id": "f948d64e",
   "metadata": {},
   "source": [
    "Find the sum of values in a matrix"
   ]
  },
  {
   "cell_type": "code",
   "execution_count": 14,
   "id": "6df5380a",
   "metadata": {},
   "outputs": [
    {
     "name": "stdout",
     "output_type": "stream",
     "text": [
      "20\n"
     ]
    }
   ],
   "source": [
    "# make matrix with numpy\n",
    "gfg = np.matrix('[4, 1; 12, 3]')\n",
    "             \n",
    "# applying matrix.sum() method\n",
    "geek = gfg.sum()\n",
    "   \n",
    "print(geek)"
   ]
  },
  {
   "cell_type": "markdown",
   "id": "df474b8c",
   "metadata": {},
   "source": [
    "Calculate the sum of the diagonal elements of a NumPy array"
   ]
  },
  {
   "cell_type": "code",
   "execution_count": 15,
   "id": "094e75d6",
   "metadata": {},
   "outputs": [
    {
     "name": "stdout",
     "output_type": "stream",
     "text": [
      "Numpy Matrix is:\n",
      "[[55 25 15]\n",
      " [30 44  2]\n",
      " [11 45 77]]\n",
      "\n",
      "Trace of given 3X3 matrix:\n",
      "176\n"
     ]
    }
   ],
   "source": [
    "# creating a 3X3 Numpy matrix\n",
    "n_array = np.array([[55, 25, 15],\n",
    "                    [30, 44, 2],\n",
    "                    [11, 45, 77]])\n",
    "  \n",
    "# Displaying the Matrix\n",
    "print(\"Numpy Matrix is:\")\n",
    "print(n_array)\n",
    "  \n",
    "# calculating the Trace of a matrix\n",
    "trace = np.trace(n_array)\n",
    "  \n",
    "  \n",
    "print(\"\\nTrace of given 3X3 matrix:\")\n",
    "print(trace)"
   ]
  },
  {
   "cell_type": "code",
   "execution_count": 28,
   "id": "10742cf8",
   "metadata": {},
   "outputs": [
    {
     "data": {
      "text/plain": [
       "176"
      ]
     },
     "execution_count": 28,
     "metadata": {},
     "output_type": "execute_result"
    }
   ],
   "source": [
    "55+44+77"
   ]
  },
  {
   "cell_type": "markdown",
   "id": "eb2bf030",
   "metadata": {},
   "source": [
    "Adding and Subtracting Matrices in Python"
   ]
  },
  {
   "cell_type": "code",
   "execution_count": 29,
   "id": "2ea24480",
   "metadata": {},
   "outputs": [
    {
     "data": {
      "text/plain": [
       "array([[1, 2],\n",
       "       [3, 4]])"
      ]
     },
     "execution_count": 29,
     "metadata": {},
     "output_type": "execute_result"
    }
   ],
   "source": [
    "np.array([[1, 2], [3, 4]])"
   ]
  },
  {
   "cell_type": "code",
   "execution_count": 16,
   "id": "17539f57",
   "metadata": {},
   "outputs": [
    {
     "name": "stdout",
     "output_type": "stream",
     "text": [
      "Printing elements of first matrix\n",
      "[[1 2]\n",
      " [3 4]]\n",
      "Printing elements of second matrix\n",
      "[[4 5]\n",
      " [6 7]]\n",
      "Addition of two matrix\n",
      "[[ 5  7]\n",
      " [ 9 11]]\n"
     ]
    }
   ],
   "source": [
    "# creating first matrix\n",
    "A = np.array([[1, 2], [3, 4]])\n",
    "  \n",
    "# creating second matrix\n",
    "B = np.array([[4, 5], [6, 7]])\n",
    "  \n",
    "print(\"Printing elements of first matrix\")\n",
    "print(A)\n",
    "print(\"Printing elements of second matrix\")\n",
    "print(B)\n",
    "  \n",
    "# adding two matrix\n",
    "print(\"Addition of two matrix\")\n",
    "print(np.add(A, B))"
   ]
  },
  {
   "cell_type": "code",
   "execution_count": 17,
   "id": "b0a8e07e",
   "metadata": {},
   "outputs": [
    {
     "name": "stdout",
     "output_type": "stream",
     "text": [
      "Printing elements of first matrix\n",
      "[[1 2]\n",
      " [3 4]]\n",
      "Printing elements of second matrix\n",
      "[[4 5]\n",
      " [6 7]]\n",
      "Subtraction of two matrix\n",
      "[[-3 -3]\n",
      " [-3 -3]]\n"
     ]
    }
   ],
   "source": [
    "# creating first matrix\n",
    "A = np.array([[1, 2], [3, 4]])\n",
    "  \n",
    "# creating second matrix\n",
    "B = np.array([[4, 5], [6, 7]])\n",
    "  \n",
    "print(\"Printing elements of first matrix\")\n",
    "print(A)\n",
    "print(\"Printing elements of second matrix\")\n",
    "print(B)\n",
    "  \n",
    "# subtracting two matrix\n",
    "print(\"Subtraction of two matrix\")\n",
    "print(np.subtract(A, B))"
   ]
  },
  {
   "cell_type": "markdown",
   "id": "116bceb0",
   "metadata": {},
   "source": [
    "Matrix Multiplication in NumPy"
   ]
  },
  {
   "cell_type": "code",
   "execution_count": 18,
   "id": "3b4eace8",
   "metadata": {},
   "outputs": [
    {
     "name": "stdout",
     "output_type": "stream",
     "text": [
      "Matrix p :\n",
      "[[1, 2], [2, 3]]\n",
      "Matrix q :\n",
      "[[4, 5], [6, 7]]\n",
      "The matrix multiplication is :\n",
      "[[16 19]\n",
      " [26 31]]\n"
     ]
    }
   ],
   "source": [
    "# creating two matrices\n",
    "p = [[1, 2], [2, 3]]\n",
    "q = [[4, 5], [6, 7]]\n",
    "print(\"Matrix p :\")\n",
    "print(p)\n",
    "print(\"Matrix q :\")\n",
    "print(q)\n",
    "  \n",
    "# computing product\n",
    "result = np.dot(p, q)\n",
    "  \n",
    "# printing the result\n",
    "print(\"The matrix multiplication is :\")\n",
    "print(result)"
   ]
  },
  {
   "cell_type": "code",
   "execution_count": null,
   "id": "a70f58db",
   "metadata": {},
   "outputs": [],
   "source": []
  }
 ],
 "metadata": {
  "kernelspec": {
   "display_name": "Python 3 (ipykernel)",
   "language": "python",
   "name": "python3"
  },
  "language_info": {
   "codemirror_mode": {
    "name": "ipython",
    "version": 3
   },
   "file_extension": ".py",
   "mimetype": "text/x-python",
   "name": "python",
   "nbconvert_exporter": "python",
   "pygments_lexer": "ipython3",
   "version": "3.9.7"
  }
 },
 "nbformat": 4,
 "nbformat_minor": 5
}
