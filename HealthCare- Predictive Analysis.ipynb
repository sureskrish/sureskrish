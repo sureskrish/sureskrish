{
 "cells": [
  {
   "cell_type": "code",
   "execution_count": 1,
   "id": "6f0bc6e0-39d7-4336-8895-13e606aa4151",
   "metadata": {},
   "outputs": [],
   "source": [
    "import pandas as pd\n",
    "import numpy as np\n",
    "import matplotlib.pyplot as plt\n",
    "import seaborn as sns\n",
    "import warnings\n",
    "warnings.filterwarnings('ignore')\n",
    "%matplotlib inline\n",
    "from sklearn import metrics"
   ]
  },
  {
   "cell_type": "raw",
   "id": "a666bed2-9be2-4fb7-8593-ac0ee0cc4c71",
   "metadata": {},
   "source": [
    "df=pd.read_csv('after_week1.csv')\n",
    "df.head()"
   ]
  },
  {
   "cell_type": "raw",
   "id": "bb3ed111-b021-4a06-8429-7f5ba294e29e",
   "metadata": {},
   "source": [
    "Data Preprocessing"
   ]
  },
  {
   "cell_type": "code",
   "execution_count": 4,
   "id": "336fe7ce-e095-4219-a2eb-f075b320f101",
   "metadata": {},
   "outputs": [],
   "source": [
    "x=df.iloc[:,:-1].values\n",
    "y=df.iloc[:,-1].values"
   ]
  },
  {
   "cell_type": "code",
   "execution_count": 5,
   "id": "bdd3865a-b73a-4790-9194-b749d72b2871",
   "metadata": {},
   "outputs": [],
   "source": [
    "from sklearn.model_selection import train_test_split\n",
    "x_train,x_test,y_train,y_test=train_test_split(x,y,test_size=0.20,random_state=0)"
   ]
  },
  {
   "cell_type": "code",
   "execution_count": 6,
   "id": "43e8386b-e581-407d-a698-e2280e552f73",
   "metadata": {},
   "outputs": [
    {
     "name": "stdout",
     "output_type": "stream",
     "text": [
      "(614, 8)\n",
      "(154, 8)\n",
      "(614,)\n",
      "(154,)\n"
     ]
    }
   ],
   "source": [
    "print(x_train.shape)\n",
    "print(x_test.shape)\n",
    "print(y_train.shape)\n",
    "print(y_test.shape)"
   ]
  },
  {
   "cell_type": "code",
   "execution_count": 7,
   "id": "014e0007-165a-4eea-ac53-6ab0fea0211b",
   "metadata": {},
   "outputs": [],
   "source": [
    "from sklearn.preprocessing import StandardScaler"
   ]
  },
  {
   "cell_type": "raw",
   "id": "496aad52-b603-4e9f-917c-e05c44884d97",
   "metadata": {},
   "source": [
    "Scale=StandardScaler()\n",
    "x_train_std=Scale.fit_transform(x_train)\n",
    "x_test_std=Scale.transform(x_test)"
   ]
  },
  {
   "cell_type": "code",
   "execution_count": 9,
   "id": "6540eadc-53ef-4699-bb81-f8477ed79b93",
   "metadata": {},
   "outputs": [],
   "source": [
    "norm=lambda a:(a-min(a))/(max(a)-min(a))"
   ]
  },
  {
   "cell_type": "code",
   "execution_count": 10,
   "id": "b1016205-2f20-4236-bb2c-d7fad04c5861",
   "metadata": {},
   "outputs": [],
   "source": [
    "df_norm=df.iloc[:,:-1]"
   ]
  },
  {
   "cell_type": "code",
   "execution_count": 11,
   "id": "cf48fd76-b5fb-4616-8235-842f1bc8e6d0",
   "metadata": {},
   "outputs": [],
   "source": [
    "df_normalized=df_norm.apply(norm)"
   ]
  },
  {
   "cell_type": "code",
   "execution_count": 12,
   "id": "0233a641-6138-4082-8424-f8fc805c3df4",
   "metadata": {},
   "outputs": [],
   "source": [
    "x_train_norm,x_test_norm,y_train_norm,y_test_norm=train_test_split(df_normalized.values,y,test_size=0.20,random_state=0)"
   ]
  },
  {
   "cell_type": "code",
   "execution_count": 13,
   "id": "173a0993-c323-4fa9-9802-8c6be3a77b50",
   "metadata": {},
   "outputs": [
    {
     "name": "stdout",
     "output_type": "stream",
     "text": [
      "(614, 8)\n",
      "(154, 8)\n",
      "(614,)\n",
      "(154,)\n"
     ]
    }
   ],
   "source": [
    "print(x_train_norm.shape)\n",
    "print(x_test_norm.shape)\n",
    "print(y_train_norm.shape)\n",
    "print(y_test_norm.shape)"
   ]
  },
  {
   "cell_type": "raw",
   "id": "a0e1920c-1732-4845-8d74-04b71e462a4b",
   "metadata": {},
   "source": [
    "Data is mostly numerical and in such scenario , Logistic Regression works fine. We have also seen in week 2 that variables are depending on target somewhat linearly, So this is also good for Logistic Regression. I will be also using Support Vector Classifier, Perceptron Learning, Random Forest (Ensemble Learning) to see if i can improve accuracy. Note these learning algorithm also works on linear data very well. To validate model i will be using train test split, for accuracy i will be using accuracy using confusion matrix because classes are balanced and i will be also considering ROC Curve and ROC AUC Score to make sure Type 2 Error will not occur for Positive class, that is 1"
   ]
  },
  {
   "cell_type": "raw",
   "id": "0d01946b-fb60-4ac8-8b97-658c57cc64d5",
   "metadata": {},
   "source": [
    "KNN"
   ]
  },
  {
   "cell_type": "code",
   "execution_count": 17,
   "id": "f4327ef8-83b7-472d-bbda-315ebd9de8f7",
   "metadata": {},
   "outputs": [],
   "source": [
    "from sklearn.neighbors import KNeighborsClassifier\n",
    "knn_model = KNeighborsClassifier(n_neighbors=25) \n",
    "#Using 25 Neighbors just as thumb rule sqrt of observation\n",
    "knn_model.fit(x_train_std,y_train)\n",
    "knn_pred=knn_model.predict(x_test_std)"
   ]
  },
  {
   "cell_type": "code",
   "execution_count": 18,
   "id": "496f7fb6-e756-433a-9837-5949fd32826d",
   "metadata": {},
   "outputs": [
    {
     "name": "stdout",
     "output_type": "stream",
     "text": [
      "Model Validation ==>\n",
      "\n",
      "Accuracy Score of KNN Model::\n",
      "0.8181818181818182\n",
      "\n",
      " Classification Report::\n",
      "              precision    recall  f1-score   support\n",
      "\n",
      "           0       0.85      0.90      0.87       107\n",
      "           1       0.73      0.64      0.68        47\n",
      "\n",
      "    accuracy                           0.82       154\n",
      "   macro avg       0.79      0.77      0.78       154\n",
      "weighted avg       0.81      0.82      0.81       154\n",
      " \n",
      "\n",
      "\n",
      " ROC Curve\n"
     ]
    },
    {
     "data": {
      "text/plain": [
       "<matplotlib.legend.Legend at 0x252c27d1ac0>"
      ]
     },
     "execution_count": 18,
     "metadata": {},
     "output_type": "execute_result"
    },
    {
     "data": {
      "image/png": "[encoded data removed]",
      "text/plain": [
       "<Figure size 480x320 with 1 Axes>"
      ]
     },
     "metadata": {
      "needs_background": "light"
     },
     "output_type": "display_data"
    }
   ],
   "source": [
    "print(\"Model Validation ==>\\n\")\n",
    "print(\"Accuracy Score of KNN Model::\")\n",
    "print(metrics.accuracy_score(y_test,knn_pred))\n",
    "print(\"\\n\",\"Classification Report::\")\n",
    "print(metrics.classification_report(y_test,knn_pred),'\\n')\n",
    "print(\"\\n\",\"ROC Curve\")\n",
    "knn_prob=knn_model.predict_proba(x_test_std)\n",
    "knn_prob1=knn_prob[:,1]\n",
    "fpr,tpr,thresh=metrics.roc_curve(y_test,knn_prob1)\n",
    "roc_auc_knn=metrics.auc(fpr,tpr)\n",
    "plt.figure(dpi=80)\n",
    "plt.title(\"ROC Curve\")\n",
    "plt.xlabel('False Positive Rate')\n",
    "plt.ylabel('True Positive Rate')\n",
    "plt.plot(fpr,tpr,'b',label='AUC Score = %0.2f'%roc_auc_knn)\n",
    "plt.plot(fpr,fpr,'r--',color='red')\n",
    "plt.legend()"
   ]
  },
  {
   "cell_type": "raw",
   "id": "1e0081d7-ea63-41ea-9696-cb9b1451ae5c",
   "metadata": {},
   "source": [
    "KNN With Normalization"
   ]
  },
  {
   "cell_type": "code",
   "execution_count": 19,
   "id": "3ab2aa96-95ce-4a1f-8689-0de6b2193e08",
   "metadata": {},
   "outputs": [],
   "source": [
    "from sklearn.neighbors import KNeighborsClassifier\n",
    "knn_model_norm = KNeighborsClassifier(n_neighbors=25) \n",
    "#Using 25 Neighbors just as thumb rule sqrt of observation\n",
    "knn_model_norm.fit(x_train_norm,y_train_norm)\n",
    "knn_pred_norm=knn_model_norm.predict(x_test_norm)"
   ]
  },
  {
   "cell_type": "code",
   "execution_count": 20,
   "id": "e8ff4eac-cb94-419d-a062-f54694c6780b",
   "metadata": {},
   "outputs": [
    {
     "name": "stdout",
     "output_type": "stream",
     "text": [
      "Model Validation ==>\n",
      "\n",
      "Accuracy Score of KNN Model with Normalization::\n",
      "0.8311688311688312\n",
      "\n",
      " Classification Report::\n",
      "              precision    recall  f1-score   support\n",
      "\n",
      "           0       0.86      0.90      0.88       107\n",
      "           1       0.74      0.68      0.71        47\n",
      "\n",
      "    accuracy                           0.83       154\n",
      "   macro avg       0.80      0.79      0.80       154\n",
      "weighted avg       0.83      0.83      0.83       154\n",
      " \n",
      "\n",
      "\n",
      " ROC Curve\n"
     ]
    },
    {
     "data": {
      "text/plain": [
       "<matplotlib.legend.Legend at 0x252c2f41a30>"
      ]
     },
     "execution_count": 20,
     "metadata": {},
     "output_type": "execute_result"
    },
    {
     "data": {
      "image/png": "[encoded data removed]",
      "text/plain": [
       "<Figure size 480x320 with 1 Axes>"
      ]
     },
     "metadata": {
      "needs_background": "light"
     },
     "output_type": "display_data"
    }
   ],
   "source": [
    "print(\"Model Validation ==>\\n\")\n",
    "print(\"Accuracy Score of KNN Model with Normalization::\")\n",
    "print(metrics.accuracy_score(y_test_norm,knn_pred_norm))\n",
    "print(\"\\n\",\"Classification Report::\")\n",
    "print(metrics.classification_report(y_test_norm,knn_pred_norm),'\\n')\n",
    "print(\"\\n\",\"ROC Curve\")\n",
    "knn_prob_norm=knn_model.predict_proba(x_test_norm)\n",
    "knn_prob_norm1=knn_prob_norm[:,1]\n",
    "fpr,tpr,thresh=metrics.roc_curve(y_test_norm,knn_prob_norm1)\n",
    "roc_auc_knn=metrics.auc(fpr,tpr)\n",
    "plt.figure(dpi=80)\n",
    "plt.title(\"ROC Curve\")\n",
    "plt.xlabel('False Positive Rate')\n",
    "plt.ylabel('True Positive Rate')\n",
    "plt.plot(fpr,tpr,'b',label='AUC Score = %0.2f'%roc_auc_knn)\n",
    "plt.plot(fpr,fpr,'r--',color='red')\n",
    "plt.legend()"
   ]
  },
  {
   "cell_type": "raw",
   "id": "ee9dd886-71da-49f3-9788-16c0b19bf6eb",
   "metadata": {},
   "source": [
    "We can clearly see that KNN with Standardization is better than Normalization, So later i will build models using Z Score Standardization and will compare with KNN"
   ]
  },
  {
   "cell_type": "raw",
   "id": "1eda3af8-134c-4842-99d6-84ea0af3ed03",
   "metadata": {},
   "source": [
    "Support Vectore Classifier"
   ]
  },
  {
   "cell_type": "code",
   "execution_count": 22,
   "id": "d46932c3-ab91-48f2-abf6-80132ab5cc7f",
   "metadata": {},
   "outputs": [],
   "source": [
    "from sklearn.svm import SVC\n",
    "svc_model_linear = SVC(kernel='linear',random_state=0,probability=True,C=0.01) \n",
    "svc_model_linear.fit(x_train_std,y_train)\n",
    "svc_pred=svc_model_linear.predict(x_test_std)"
   ]
  },
  {
   "cell_type": "code",
   "execution_count": 23,
   "id": "f002896c-d26a-4f40-ae67-c1891b52eaa5",
   "metadata": {},
   "outputs": [
    {
     "name": "stdout",
     "output_type": "stream",
     "text": [
      "Model Validation ==>\n",
      "\n",
      "Accuracy Score of SVC Model with Linear Kernel::\n",
      "0.8116883116883117\n",
      "\n",
      " Classification Report::\n",
      "              precision    recall  f1-score   support\n",
      "\n",
      "           0       0.83      0.92      0.87       107\n",
      "           1       0.75      0.57      0.65        47\n",
      "\n",
      "    accuracy                           0.81       154\n",
      "   macro avg       0.79      0.75      0.76       154\n",
      "weighted avg       0.81      0.81      0.80       154\n",
      " \n",
      "\n",
      "\n",
      " ROC Curve\n"
     ]
    },
    {
     "data": {
      "text/plain": [
       "<matplotlib.legend.Legend at 0x252c2fd7370>"
      ]
     },
     "execution_count": 23,
     "metadata": {},
     "output_type": "execute_result"
    },
    {
     "data": {
      "image/png": "[encoded data removed]",
      "text/plain": [
       "<Figure size 480x320 with 1 Axes>"
      ]
     },
     "metadata": {
      "needs_background": "light"
     },
     "output_type": "display_data"
    }
   ],
   "source": [
    "print(\"Model Validation ==>\\n\")\n",
    "print(\"Accuracy Score of SVC Model with Linear Kernel::\")\n",
    "print(metrics.accuracy_score(y_test,svc_pred))\n",
    "print(\"\\n\",\"Classification Report::\")\n",
    "print(metrics.classification_report(y_test,svc_pred),'\\n')\n",
    "print(\"\\n\",\"ROC Curve\")\n",
    "svc_prob_linear=svc_model_linear.predict_proba(x_test_std)\n",
    "svc_prob_linear1=svc_prob_linear[:,1]\n",
    "fpr,tpr,thresh=metrics.roc_curve(y_test,svc_prob_linear1)\n",
    "roc_auc_svc=metrics.auc(fpr,tpr)\n",
    "plt.figure(dpi=80)\n",
    "plt.title(\"ROC Curve\")\n",
    "plt.xlabel('False Positive Rate')\n",
    "plt.ylabel('True Positive Rate')\n",
    "plt.plot(fpr,tpr,'b',label='AUC Score = %0.2f'%roc_auc_svc)\n",
    "plt.plot(fpr,fpr,'r--',color='red')\n",
    "plt.legend()"
   ]
  },
  {
   "cell_type": "code",
   "execution_count": 24,
   "id": "5bfb4064-7d61-4982-8bc8-1e91b6670cfe",
   "metadata": {},
   "outputs": [],
   "source": [
    "from sklearn.svm import SVC\n",
    "svc_model_rbf = SVC(kernel='rbf',random_state=0,probability=True,C=1) \n",
    "svc_model_rbf.fit(x_train_std,y_train)\n",
    "svc_pred_rbf=svc_model_rbf.predict(x_test_std)"
   ]
  },
  {
   "cell_type": "code",
   "execution_count": 25,
   "id": "b54e4e7b-3d6a-4dab-b5f6-c9a0e49e97d9",
   "metadata": {},
   "outputs": [
    {
     "name": "stdout",
     "output_type": "stream",
     "text": [
      "Model Validation ==>\n",
      "\n",
      "Accuracy Score of SVC Model with RBF Kernel::\n",
      "0.7727272727272727\n",
      "\n",
      " Classification Report::\n",
      "              precision    recall  f1-score   support\n",
      "\n",
      "           0       0.81      0.88      0.84       107\n",
      "           1       0.66      0.53      0.59        47\n",
      "\n",
      "    accuracy                           0.77       154\n",
      "   macro avg       0.73      0.71      0.72       154\n",
      "weighted avg       0.76      0.77      0.77       154\n",
      " \n",
      "\n",
      "\n",
      " ROC Curve\n"
     ]
    },
    {
     "data": {
      "text/plain": [
       "<matplotlib.legend.Legend at 0x252c3043580>"
      ]
     },
     "execution_count": 25,
     "metadata": {},
     "output_type": "execute_result"
    },
    {
     "data": {
      "image/png": "[encoded data removed]",
      "text/plain": [
       "<Figure size 480x320 with 1 Axes>"
      ]
     },
     "metadata": {
      "needs_background": "light"
     },
     "output_type": "display_data"
    }
   ],
   "source": [
    "print(\"Model Validation ==>\\n\")\n",
    "print(\"Accuracy Score of SVC Model with RBF Kernel::\")\n",
    "print(metrics.accuracy_score(y_test,svc_pred_rbf))\n",
    "print(\"\\n\",\"Classification Report::\")\n",
    "print(metrics.classification_report(y_test,svc_pred_rbf),'\\n')\n",
    "print(\"\\n\",\"ROC Curve\")\n",
    "svc_prob_rbf=svc_model_linear.predict_proba(x_test_std)\n",
    "svc_prob_rbf1=svc_prob_rbf[:,1]\n",
    "fpr,tpr,thresh=metrics.roc_curve(y_test,svc_prob_rbf1)\n",
    "roc_auc_svc=metrics.auc(fpr,tpr)\n",
    "plt.figure(dpi=80)\n",
    "plt.title(\"ROC Curve\")\n",
    "plt.xlabel('False Positive Rate')\n",
    "plt.ylabel('True Positive Rate')\n",
    "plt.plot(fpr,tpr,'b',label='AUC Score = %0.2f'%roc_auc_svc)\n",
    "plt.plot(fpr,fpr,'r--',color='red')\n",
    "plt.legend()"
   ]
  },
  {
   "cell_type": "raw",
   "id": "879c8cbd-ee71-4cb1-be18-2d503fe9259b",
   "metadata": {},
   "source": [
    "SVC with Linear Kernel is better than RBF Kernel, This was actually expected beause variables are somewhat depending linearly with outcome\n",
    "\n",
    "Comparing with KNN\n",
    "\n",
    "Both Models are working fine , but SVC Linear with C=0.01 is better in terms of AUC Score."
   ]
  },
  {
   "cell_type": "raw",
   "id": "5ae8ae59-ad0f-447d-94d4-a9d3c3c6185b",
   "metadata": {},
   "source": [
    "Logistic Regression"
   ]
  },
  {
   "cell_type": "code",
   "execution_count": 26,
   "id": "c201b5a6-08c4-4704-b0d6-820dfeb0159e",
   "metadata": {},
   "outputs": [],
   "source": [
    "\n",
    "from sklearn.linear_model import LogisticRegression\n",
    "lr_model = LogisticRegression(C=0.01) \n",
    "lr_model.fit(x_train_std,y_train)\n",
    "lr_pred=lr_model.predict(x_test_std)"
   ]
  },
  {
   "cell_type": "code",
   "execution_count": 27,
   "id": "bebed84e-fd5f-4c6f-a022-4e4edec644cd",
   "metadata": {},
   "outputs": [
    {
     "name": "stdout",
     "output_type": "stream",
     "text": [
      "Model Validation ==>\n",
      "\n",
      "Accuracy Score of Logistic Regression Model::\n",
      "0.8116883116883117\n",
      "\n",
      " Classification Report::\n",
      "              precision    recall  f1-score   support\n",
      "\n",
      "           0       0.82      0.93      0.87       107\n",
      "           1       0.78      0.53      0.63        47\n",
      "\n",
      "    accuracy                           0.81       154\n",
      "   macro avg       0.80      0.73      0.75       154\n",
      "weighted avg       0.81      0.81      0.80       154\n",
      " \n",
      "\n",
      "\n",
      " ROC Curve\n"
     ]
    },
    {
     "data": {
      "text/plain": [
       "<matplotlib.legend.Legend at 0x252c30b2940>"
      ]
     },
     "execution_count": 27,
     "metadata": {},
     "output_type": "execute_result"
    },
    {
     "data": {
      "image/png": "[encoded data removed]",
      "text/plain": [
       "<Figure size 480x320 with 1 Axes>"
      ]
     },
     "metadata": {
      "needs_background": "light"
     },
     "output_type": "display_data"
    }
   ],
   "source": [
    "print(\"Model Validation ==>\\n\")\n",
    "print(\"Accuracy Score of Logistic Regression Model::\")\n",
    "print(metrics.accuracy_score(y_test,lr_pred))\n",
    "print(\"\\n\",\"Classification Report::\")\n",
    "print(metrics.classification_report(y_test,lr_pred),'\\n')\n",
    "print(\"\\n\",\"ROC Curve\")\n",
    "lr_prob=lr_model.predict_proba(x_test_std)\n",
    "lr_prob1=lr_prob[:,1]\n",
    "fpr,tpr,thresh=metrics.roc_curve(y_test,lr_prob1)\n",
    "roc_auc_lr=metrics.auc(fpr,tpr)\n",
    "plt.figure(dpi=80)\n",
    "plt.title(\"ROC Curve\")\n",
    "plt.xlabel('False Positive Rate')\n",
    "plt.ylabel('True Positive Rate')\n",
    "plt.plot(fpr,tpr,'b',label='AUC Score = %0.2f'%roc_auc_lr)\n",
    "plt.plot(fpr,fpr,'r--',color='red')\n",
    "plt.legend()"
   ]
  },
  {
   "cell_type": "raw",
   "id": "8f29c202-a493-4c66-afc1-94516a2fec28",
   "metadata": {},
   "source": [
    "Accuracy of KNN is better than Logistic Regression,but auc score of Logistic regression is better\n",
    "\n",
    "Ensemble Learning(RF)"
   ]
  },
  {
   "cell_type": "code",
   "execution_count": 28,
   "id": "cf727395-0f9c-4224-b8ad-5049bd646319",
   "metadata": {},
   "outputs": [],
   "source": [
    "from sklearn.ensemble import RandomForestClassifier\n",
    "rf_model = RandomForestClassifier(n_estimators=1000,random_state=0)\n",
    "rf_model.fit(x_train_std,y_train)\n",
    "rf_pred=rf_model.predict(x_test_std)"
   ]
  },
  {
   "cell_type": "code",
   "execution_count": 29,
   "id": "14ff04c8-1fdc-4899-9314-cb87941c3f9a",
   "metadata": {},
   "outputs": [
    {
     "name": "stdout",
     "output_type": "stream",
     "text": [
      "Model Validation ==>\n",
      "\n",
      "Accuracy Score of Logistic Regression Model::\n",
      "0.8246753246753247\n",
      "\n",
      " Classification Report::\n",
      "              precision    recall  f1-score   support\n",
      "\n",
      "           0       0.88      0.87      0.87       107\n",
      "           1       0.71      0.72      0.72        47\n",
      "\n",
      "    accuracy                           0.82       154\n",
      "   macro avg       0.79      0.80      0.79       154\n",
      "weighted avg       0.83      0.82      0.83       154\n",
      " \n",
      "\n",
      "\n",
      " ROC Curve\n"
     ]
    },
    {
     "data": {
      "text/plain": [
       "<matplotlib.legend.Legend at 0x252c42d7820>"
      ]
     },
     "execution_count": 29,
     "metadata": {},
     "output_type": "execute_result"
    },
    {
     "data": {
      "image/png": "[encoded data removed]",
      "text/plain": [
       "<Figure size 480x320 with 1 Axes>"
      ]
     },
     "metadata": {
      "needs_background": "light"
     },
     "output_type": "display_data"
    }
   ],
   "source": [
    "print(\"Model Validation ==>\\n\")\n",
    "print(\"Accuracy Score of Logistic Regression Model::\")\n",
    "print(metrics.accuracy_score(y_test,rf_pred))\n",
    "print(\"\\n\",\"Classification Report::\")\n",
    "print(metrics.classification_report(y_test,rf_pred),'\\n')\n",
    "print(\"\\n\",\"ROC Curve\")\n",
    "rf_prob=rf_model.predict_proba(x_test_std)\n",
    "rf_prob1=rf_prob[:,1]\n",
    "fpr,tpr,thresh=metrics.roc_curve(y_test,rf_prob1)\n",
    "roc_auc_rf=metrics.auc(fpr,tpr)\n",
    "plt.figure(dpi=80)\n",
    "plt.plot(fpr,tpr,'b',label='AUC Score = %0.2f'%roc_auc_rf)\n",
    "plt.title(\"ROC Curve\")\n",
    "plt.xlabel('False Positive Rate')\n",
    "plt.ylabel('True Positive Rate')\n",
    "plt.plot(fpr,fpr,'r--',color='red')\n",
    "plt.legend()"
   ]
  },
  {
   "cell_type": "raw",
   "id": "49c1fb8f-4643-409d-aea2-6e5469eadd6f",
   "metadata": {},
   "source": [
    "So we can see Random Forest Classifier is best among all, you might be wondering auc score is lesser by 1 than others also i am considering it to be best because balance of classes between Precision and Recall is far better than other Models. So we can consider a loss in AUC by 1"
   ]
  },
  {
   "cell_type": "raw",
   "id": "86f6252b-a3d1-4596-85c2-f3b4594997c7",
   "metadata": {},
   "source": []
  }
 ],
 "metadata": {
  "kernelspec": {
   "display_name": "Python 3 (ipykernel)",
   "language": "python",
   "name": "python3"
  },
  "language_info": {
   "codemirror_mode": {
    "name": "ipython",
    "version": 3
   },
   "file_extension": ".py",
   "mimetype": "text/x-python",
   "name": "python",
   "nbconvert_exporter": "python",
   "pygments_lexer": "ipython3",
   "version": "3.9.7"
  }
 },
 "nbformat": 4,
 "nbformat_minor": 5
}
